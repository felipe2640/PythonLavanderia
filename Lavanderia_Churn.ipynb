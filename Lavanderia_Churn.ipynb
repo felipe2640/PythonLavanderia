{
  "nbformat": 4,
  "nbformat_minor": 0,
  "metadata": {
    "colab": {
      "provenance": [],
      "toc_visible": true,
      "authorship_tag": "ABX9TyNW4/dfur0TzJk6Fb96vXUj",
      "include_colab_link": true
    },
    "kernelspec": {
      "name": "python3",
      "display_name": "Python 3"
    },
    "language_info": {
      "name": "python"
    }
  },
  "cells": [
    {
      "cell_type": "markdown",
      "metadata": {
        "id": "view-in-github",
        "colab_type": "text"
      },
      "source": [
        "<a href=\"https://colab.research.google.com/github/felipe2640/PythonLavanderia/blob/main/Lavanderia_Churn.ipynb\" target=\"_parent\"><img src=\"https://colab.research.google.com/assets/colab-badge.svg\" alt=\"Open In Colab\"/></a>"
      ]
    },
    {
      "cell_type": "code",
      "execution_count": null,
      "metadata": {
        "id": "wJ3cNtp5XRlP"
      },
      "outputs": [],
      "source": [
        "import pandas as pd\n",
        "from datetime import datetime, timedelta\n",
        "\n",
        "# Carregar os dados dos clientes\n",
        "data = pd.read_excel('Clientes.xlsx')\n",
        "\n",
        "# Definir o limite de inatividade (por exemplo, 30 dias)\n",
        "limite_inatividade = 30\n",
        "\n",
        "# Calcular a data atual\n",
        "data_atual = datetime.now()\n",
        "\n",
        "# Calcular a data limite para considerar um cliente como abandonado\n",
        "data_limite = data_atual - timedelta(days=limite_inatividade)\n",
        "\n",
        "# Calcular a idade a partir da data de nascimento\n",
        "data['Idade'] = (data_atual - data['Data de Nascimento']).dt.days // 365\n",
        "\n",
        "# Criar uma nova coluna 'Churn' com valores booleanos indicando se o cliente abandonou ou não\n",
        "data['Churn'] = data['Última Compra'] < data_limite\n",
        "\n",
        "# Converter os valores booleanos para 0 (não abandonou) e 1 (abandonou)\n",
        "data['Churn'] = data['Churn'].astype(int)\n",
        "\n",
        "# Ordenar o DataFrame resultante por idade\n",
        "data = data.sort_values(by='Idade')\n",
        "\n",
        "# Definir os intervalos de idade\n",
        "faixas_idade = [(0, 20), (21, 23), (24, 27), (28, 31), (32, 35), (36, 40), (41, 45), (46, 90)]\n",
        "\n",
        "# Calcular o churn por faixa de idade\n",
        "churn_por_faixa_idade = data.groupby(pd.cut(data['Idade'], bins=[int(idade[0]) for idade in faixas_idade] + [faixas_idade[-1][-1]], labels=[f\"{idade[0]}-{idade[1]}\" for idade in faixas_idade]))['Churn'].mean().reset_index()\n",
        "churn_por_faixa_idade.columns = ['Faixa de Idade', 'Churn']\n",
        "\n",
        "# Calcular a quantidade de pessoas em cada faixa de idade\n",
        "contagem_idade = data.groupby(pd.cut(data['Idade'], bins=[int(idade[0]) for idade in faixas_idade] + [faixas_idade[-1][-1]], labels=[f\"{idade[0]}-{idade[1]}\" for idade in faixas_idade])).size().reset_index(name='Quantidade de Pessoas')\n",
        "contagem_idade.columns = ['Faixa de Idade', 'Quantidade de Pessoas']\n",
        "\n",
        "# Mesclar os dados de churn e quantidade de pessoas\n",
        "resultado_final = pd.merge(churn_por_faixa_idade, contagem_idade, on='Faixa de Idade')\n",
        "\n",
        "# Exibir o resultado final\n",
        "print(resultado_final)\n"
      ]
    }
  ]
}